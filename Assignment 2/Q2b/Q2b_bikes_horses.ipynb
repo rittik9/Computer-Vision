{
 "cells": [
  {
   "cell_type": "code",
   "execution_count": 228,
   "metadata": {},
   "outputs": [],
   "source": [
    "import cv2\n",
    "import numpy as np\n",
    "import os"
   ]
  },
  {
   "cell_type": "code",
   "execution_count": 229,
   "metadata": {},
   "outputs": [
    {
     "data": {
      "text/plain": [
       "['Bikes', 'Horses']"
      ]
     },
     "execution_count": 229,
     "metadata": {},
     "output_type": "execute_result"
    }
   ],
   "source": [
    "class_names = os.listdir('Train')\n",
    "class_names"
   ]
  },
  {
   "cell_type": "code",
   "execution_count": 230,
   "metadata": {},
   "outputs": [],
   "source": [
    "images = [] #Get path to all images and save them in a list\n",
    "labels = [] # labels of corresponding images\n",
    "class_id = 0\n",
    "\n",
    "for i in class_names:\n",
    "    dir=os.path.join('train',i)\n",
    "    x = [os.path.join(dir, f) for f in os.listdir(dir)]\n",
    "    images+= x\n",
    "    labels+=[class_id]*len(x)\n",
    "    class_id+=1"
   ]
  },
  {
   "cell_type": "code",
   "execution_count": 231,
   "metadata": {},
   "outputs": [
    {
     "data": {
      "text/plain": [
       "['train\\\\Bikes\\\\0001.jpg',\n",
       " 'train\\\\Bikes\\\\0002.jpg',\n",
       " 'train\\\\Bikes\\\\0003.jpg',\n",
       " 'train\\\\Bikes\\\\0004.jpg',\n",
       " 'train\\\\Bikes\\\\0005.jpg',\n",
       " 'train\\\\Bikes\\\\0006.jpg',\n",
       " 'train\\\\Bikes\\\\0007.jpg',\n",
       " 'train\\\\Bikes\\\\0008.jpg',\n",
       " 'train\\\\Bikes\\\\0009.jpg',\n",
       " 'train\\\\Bikes\\\\0010.jpg',\n",
       " 'train\\\\Bikes\\\\0011.jpg',\n",
       " 'train\\\\Bikes\\\\0012.jpg',\n",
       " 'train\\\\Bikes\\\\0013.jpg',\n",
       " 'train\\\\Bikes\\\\0014.jpg',\n",
       " 'train\\\\Bikes\\\\0015.jpg',\n",
       " 'train\\\\Bikes\\\\0016.jpg',\n",
       " 'train\\\\Bikes\\\\0017.jpg',\n",
       " 'train\\\\Bikes\\\\0018.jpg',\n",
       " 'train\\\\Bikes\\\\0019.jpg',\n",
       " 'train\\\\Bikes\\\\0020.jpg',\n",
       " 'train\\\\Bikes\\\\0021.jpg',\n",
       " 'train\\\\Bikes\\\\0022.jpg',\n",
       " 'train\\\\Bikes\\\\0023.jpg',\n",
       " 'train\\\\Bikes\\\\0024.jpg',\n",
       " 'train\\\\Bikes\\\\0025.jpg',\n",
       " 'train\\\\Bikes\\\\0026.jpg',\n",
       " 'train\\\\Bikes\\\\0027.jpg',\n",
       " 'train\\\\Bikes\\\\0028.jpg',\n",
       " 'train\\\\Bikes\\\\0029.jpg',\n",
       " 'train\\\\Bikes\\\\0030.jpg',\n",
       " 'train\\\\Bikes\\\\0031.jpg',\n",
       " 'train\\\\Bikes\\\\0032.jpg',\n",
       " 'train\\\\Bikes\\\\0033.jpg',\n",
       " 'train\\\\Bikes\\\\0034.jpg',\n",
       " 'train\\\\Bikes\\\\0035.jpg',\n",
       " 'train\\\\Bikes\\\\0036.jpg',\n",
       " 'train\\\\Bikes\\\\0037.jpg',\n",
       " 'train\\\\Bikes\\\\0038.jpg',\n",
       " 'train\\\\Bikes\\\\0039.jpg',\n",
       " 'train\\\\Bikes\\\\0040.jpg',\n",
       " 'train\\\\Bikes\\\\0041.jpg',\n",
       " 'train\\\\Bikes\\\\0042.jpg',\n",
       " 'train\\\\Bikes\\\\0043.jpg',\n",
       " 'train\\\\Bikes\\\\0044.jpg',\n",
       " 'train\\\\Bikes\\\\0045.jpg',\n",
       " 'train\\\\Bikes\\\\0046.jpg',\n",
       " 'train\\\\Bikes\\\\0047.jpg',\n",
       " 'train\\\\Bikes\\\\0048.jpg',\n",
       " 'train\\\\Bikes\\\\0049.jpg',\n",
       " 'train\\\\Bikes\\\\0050.jpg',\n",
       " 'train\\\\Bikes\\\\0051.jpg',\n",
       " 'train\\\\Bikes\\\\0052.jpg',\n",
       " 'train\\\\Bikes\\\\0053.jpg',\n",
       " 'train\\\\Bikes\\\\0054.jpg',\n",
       " 'train\\\\Bikes\\\\0055.jpg',\n",
       " 'train\\\\Bikes\\\\0056.jpg',\n",
       " 'train\\\\Bikes\\\\0057.jpg',\n",
       " 'train\\\\Bikes\\\\0058.jpg',\n",
       " 'train\\\\Bikes\\\\0059.jpg',\n",
       " 'train\\\\Bikes\\\\0060.jpg',\n",
       " 'train\\\\Bikes\\\\0061.jpg',\n",
       " 'train\\\\Bikes\\\\0062.jpg',\n",
       " 'train\\\\Bikes\\\\0063.jpg',\n",
       " 'train\\\\Bikes\\\\0064.jpg',\n",
       " 'train\\\\Bikes\\\\0065.jpg',\n",
       " 'train\\\\Bikes\\\\0066.jpg',\n",
       " 'train\\\\Bikes\\\\0067.jpg',\n",
       " 'train\\\\Bikes\\\\0068.jpg',\n",
       " 'train\\\\Bikes\\\\0069.jpg',\n",
       " 'train\\\\Bikes\\\\0070.jpg',\n",
       " 'train\\\\Bikes\\\\0071.jpg',\n",
       " 'train\\\\Bikes\\\\0072.jpg',\n",
       " 'train\\\\Bikes\\\\0073.jpg',\n",
       " 'train\\\\Bikes\\\\0074.jpg',\n",
       " 'train\\\\Bikes\\\\0075.jpg',\n",
       " 'train\\\\Bikes\\\\0076.jpg',\n",
       " 'train\\\\Bikes\\\\0077.jpg',\n",
       " 'train\\\\Bikes\\\\0078.jpg',\n",
       " 'train\\\\Bikes\\\\0079.jpg',\n",
       " 'train\\\\Bikes\\\\0080.jpg',\n",
       " 'train\\\\Horses\\\\h1.jpg',\n",
       " 'train\\\\Horses\\\\h2.jpg',\n",
       " 'train\\\\Horses\\\\horse1  (12).jpg',\n",
       " 'train\\\\Horses\\\\horse1  (15).jpg',\n",
       " 'train\\\\Horses\\\\horse1  (17).jpg',\n",
       " 'train\\\\Horses\\\\horse1  (24).jpg',\n",
       " 'train\\\\Horses\\\\horse1  (26).jpg',\n",
       " 'train\\\\Horses\\\\horse1  (31).jpg',\n",
       " 'train\\\\Horses\\\\horse1  (32).jpg',\n",
       " 'train\\\\Horses\\\\horse1  (33).jpg',\n",
       " 'train\\\\Horses\\\\horse1  (37).jpg',\n",
       " 'train\\\\Horses\\\\horse1  (43).jpg',\n",
       " 'train\\\\Horses\\\\horse1  (44).jpg',\n",
       " 'train\\\\Horses\\\\horse1  (45).jpg',\n",
       " 'train\\\\Horses\\\\horse1  (5).jpg',\n",
       " 'train\\\\Horses\\\\horse1  (6).jpg',\n",
       " 'train\\\\Horses\\\\horse1  (7).jpg',\n",
       " 'train\\\\Horses\\\\horse1  (8).jpg',\n",
       " 'train\\\\Horses\\\\horse1 .jpg',\n",
       " 'train\\\\Horses\\\\horse10.jpg',\n",
       " 'train\\\\Horses\\\\horse11.jpg',\n",
       " 'train\\\\Horses\\\\horse12.jpg',\n",
       " 'train\\\\Horses\\\\horse13.jpg',\n",
       " 'train\\\\Horses\\\\horse14.jpg',\n",
       " 'train\\\\Horses\\\\horse15.jpg',\n",
       " 'train\\\\Horses\\\\horse16.jpg',\n",
       " 'train\\\\Horses\\\\horse17.jpg',\n",
       " 'train\\\\Horses\\\\horse18.jpg',\n",
       " 'train\\\\Horses\\\\horse19.jpg',\n",
       " 'train\\\\Horses\\\\horse2 .jpg',\n",
       " 'train\\\\Horses\\\\horse20.jpg',\n",
       " 'train\\\\Horses\\\\horse21.jpg',\n",
       " 'train\\\\Horses\\\\horse22.jpg',\n",
       " 'train\\\\Horses\\\\horse23.jpg',\n",
       " 'train\\\\Horses\\\\horse24.jpg',\n",
       " 'train\\\\Horses\\\\horse25.jpg',\n",
       " 'train\\\\Horses\\\\horse26.jpg',\n",
       " 'train\\\\Horses\\\\horse27.jpg',\n",
       " 'train\\\\Horses\\\\horse28.jpg',\n",
       " 'train\\\\Horses\\\\horse29.jpg',\n",
       " 'train\\\\Horses\\\\horse3 .jpg',\n",
       " 'train\\\\Horses\\\\horse30.jpg',\n",
       " 'train\\\\Horses\\\\horse31.jpg',\n",
       " 'train\\\\Horses\\\\horse32.jpg',\n",
       " 'train\\\\Horses\\\\horse33.jpg',\n",
       " 'train\\\\Horses\\\\horse34.jpg',\n",
       " 'train\\\\Horses\\\\horse35.jpg',\n",
       " 'train\\\\Horses\\\\horse36.jpg',\n",
       " 'train\\\\Horses\\\\horse37.jpg',\n",
       " 'train\\\\Horses\\\\horse38.jpg',\n",
       " 'train\\\\Horses\\\\horse39.jpg',\n",
       " 'train\\\\Horses\\\\horse4 .jpg',\n",
       " 'train\\\\Horses\\\\horse40.jpg',\n",
       " 'train\\\\Horses\\\\horse41.jpg',\n",
       " 'train\\\\Horses\\\\horse42.jpg',\n",
       " 'train\\\\Horses\\\\horse43.jpg',\n",
       " 'train\\\\Horses\\\\horse44.jpg',\n",
       " 'train\\\\Horses\\\\horse45.jpg',\n",
       " 'train\\\\Horses\\\\horse46.jpg',\n",
       " 'train\\\\Horses\\\\horse47.jpg',\n",
       " 'train\\\\Horses\\\\horse48.jpg',\n",
       " 'train\\\\Horses\\\\horse49.jpg',\n",
       " 'train\\\\Horses\\\\horse5 .jpg',\n",
       " 'train\\\\Horses\\\\horse50.jpg',\n",
       " 'train\\\\Horses\\\\horse51.jpg',\n",
       " 'train\\\\Horses\\\\horse52.jpg',\n",
       " 'train\\\\Horses\\\\horse53.jpg',\n",
       " 'train\\\\Horses\\\\horse54.jpg',\n",
       " 'train\\\\Horses\\\\horse55.jpg',\n",
       " 'train\\\\Horses\\\\horse56.jpg',\n",
       " 'train\\\\Horses\\\\horse57.jpg',\n",
       " 'train\\\\Horses\\\\horse58.jpg',\n",
       " 'train\\\\Horses\\\\horse59.jpg',\n",
       " 'train\\\\Horses\\\\horse6 .jpg',\n",
       " 'train\\\\Horses\\\\horse60.jpg',\n",
       " 'train\\\\Horses\\\\horse61.jpg',\n",
       " 'train\\\\Horses\\\\horse62.jpg',\n",
       " 'train\\\\Horses\\\\horse63.jpg',\n",
       " 'train\\\\Horses\\\\horse64.jpg',\n",
       " 'train\\\\Horses\\\\horse65.jpg',\n",
       " 'train\\\\Horses\\\\horse66.jpg',\n",
       " 'train\\\\Horses\\\\horse67.jpg',\n",
       " 'train\\\\Horses\\\\horse68.jpg',\n",
       " 'train\\\\Horses\\\\horse69.jpg',\n",
       " 'train\\\\Horses\\\\horse7 .jpg',\n",
       " 'train\\\\Horses\\\\horse70.jpg',\n",
       " 'train\\\\Horses\\\\horse71.jpg',\n",
       " 'train\\\\Horses\\\\horse72.jpg',\n",
       " 'train\\\\Horses\\\\horse73.jpg',\n",
       " 'train\\\\Horses\\\\horse74.jpg',\n",
       " 'train\\\\Horses\\\\horse75.jpg',\n",
       " 'train\\\\Horses\\\\horse76.jpg',\n",
       " 'train\\\\Horses\\\\horse77.jpg',\n",
       " 'train\\\\Horses\\\\horse78.jpg',\n",
       " 'train\\\\Horses\\\\horse79.jpg',\n",
       " 'train\\\\Horses\\\\horse8 .jpg',\n",
       " 'train\\\\Horses\\\\horse80.jpg',\n",
       " 'train\\\\Horses\\\\horse81.jpg',\n",
       " 'train\\\\Horses\\\\horse9 .jpg']"
      ]
     },
     "execution_count": 231,
     "metadata": {},
     "output_type": "execute_result"
    }
   ],
   "source": [
    "images"
   ]
  },
  {
   "cell_type": "code",
   "execution_count": 232,
   "metadata": {},
   "outputs": [
    {
     "data": {
      "text/plain": [
       "[0,\n",
       " 0,\n",
       " 0,\n",
       " 0,\n",
       " 0,\n",
       " 0,\n",
       " 0,\n",
       " 0,\n",
       " 0,\n",
       " 0,\n",
       " 0,\n",
       " 0,\n",
       " 0,\n",
       " 0,\n",
       " 0,\n",
       " 0,\n",
       " 0,\n",
       " 0,\n",
       " 0,\n",
       " 0,\n",
       " 0,\n",
       " 0,\n",
       " 0,\n",
       " 0,\n",
       " 0,\n",
       " 0,\n",
       " 0,\n",
       " 0,\n",
       " 0,\n",
       " 0,\n",
       " 0,\n",
       " 0,\n",
       " 0,\n",
       " 0,\n",
       " 0,\n",
       " 0,\n",
       " 0,\n",
       " 0,\n",
       " 0,\n",
       " 0,\n",
       " 0,\n",
       " 0,\n",
       " 0,\n",
       " 0,\n",
       " 0,\n",
       " 0,\n",
       " 0,\n",
       " 0,\n",
       " 0,\n",
       " 0,\n",
       " 0,\n",
       " 0,\n",
       " 0,\n",
       " 0,\n",
       " 0,\n",
       " 0,\n",
       " 0,\n",
       " 0,\n",
       " 0,\n",
       " 0,\n",
       " 0,\n",
       " 0,\n",
       " 0,\n",
       " 0,\n",
       " 0,\n",
       " 0,\n",
       " 0,\n",
       " 0,\n",
       " 0,\n",
       " 0,\n",
       " 0,\n",
       " 0,\n",
       " 0,\n",
       " 0,\n",
       " 0,\n",
       " 0,\n",
       " 0,\n",
       " 0,\n",
       " 0,\n",
       " 0,\n",
       " 1,\n",
       " 1,\n",
       " 1,\n",
       " 1,\n",
       " 1,\n",
       " 1,\n",
       " 1,\n",
       " 1,\n",
       " 1,\n",
       " 1,\n",
       " 1,\n",
       " 1,\n",
       " 1,\n",
       " 1,\n",
       " 1,\n",
       " 1,\n",
       " 1,\n",
       " 1,\n",
       " 1,\n",
       " 1,\n",
       " 1,\n",
       " 1,\n",
       " 1,\n",
       " 1,\n",
       " 1,\n",
       " 1,\n",
       " 1,\n",
       " 1,\n",
       " 1,\n",
       " 1,\n",
       " 1,\n",
       " 1,\n",
       " 1,\n",
       " 1,\n",
       " 1,\n",
       " 1,\n",
       " 1,\n",
       " 1,\n",
       " 1,\n",
       " 1,\n",
       " 1,\n",
       " 1,\n",
       " 1,\n",
       " 1,\n",
       " 1,\n",
       " 1,\n",
       " 1,\n",
       " 1,\n",
       " 1,\n",
       " 1,\n",
       " 1,\n",
       " 1,\n",
       " 1,\n",
       " 1,\n",
       " 1,\n",
       " 1,\n",
       " 1,\n",
       " 1,\n",
       " 1,\n",
       " 1,\n",
       " 1,\n",
       " 1,\n",
       " 1,\n",
       " 1,\n",
       " 1,\n",
       " 1,\n",
       " 1,\n",
       " 1,\n",
       " 1,\n",
       " 1,\n",
       " 1,\n",
       " 1,\n",
       " 1,\n",
       " 1,\n",
       " 1,\n",
       " 1,\n",
       " 1,\n",
       " 1,\n",
       " 1,\n",
       " 1,\n",
       " 1,\n",
       " 1,\n",
       " 1,\n",
       " 1,\n",
       " 1,\n",
       " 1,\n",
       " 1,\n",
       " 1,\n",
       " 1,\n",
       " 1,\n",
       " 1,\n",
       " 1,\n",
       " 1,\n",
       " 1,\n",
       " 1,\n",
       " 1,\n",
       " 1,\n",
       " 1,\n",
       " 1]"
      ]
     },
     "execution_count": 232,
     "metadata": {},
     "output_type": "execute_result"
    }
   ],
   "source": [
    "labels"
   ]
  },
  {
   "attachments": {},
   "cell_type": "markdown",
   "metadata": {},
   "source": [
    "Randomly Suffling The Dataset and Doing Train-Test Split"
   ]
  },
  {
   "cell_type": "code",
   "execution_count": 233,
   "metadata": {},
   "outputs": [],
   "source": [
    "import random\n",
    "D = []\n",
    "for i in range(len(images)):\n",
    "    D.append([images[i],labels[i]])\n",
    "\n",
    "dataset = D\n",
    "random.shuffle(dataset)\n",
    "train = dataset[:155]\n",
    "test = dataset[155:]\n",
    "\n",
    "x_train, y_train = zip(*train)\n",
    "x_test, y_test = zip(*test)"
   ]
  },
  {
   "attachments": {},
   "cell_type": "markdown",
   "metadata": {},
   "source": [
    "Detecting Keypoints and Corresponding Descriptors"
   ]
  },
  {
   "cell_type": "code",
   "execution_count": 234,
   "metadata": {},
   "outputs": [],
   "source": [
    "sift = cv2.SIFT_create()"
   ]
  },
  {
   "cell_type": "code",
   "execution_count": 235,
   "metadata": {},
   "outputs": [],
   "source": [
    "imgwise_des_list = []\n",
    "des_list = []\n",
    "for t in x_train:\n",
    "    im = cv2.imread(t)\n",
    "    kpts, des = sift.detectAndCompute(im, None)\n",
    "    imgwise_des_list.append((t, des)) \n",
    "    for i in des:\n",
    "        des_list.append(i)\n",
    "des_list = np.array(des_list) "
   ]
  },
  {
   "cell_type": "code",
   "execution_count": 254,
   "metadata": {},
   "outputs": [
    {
     "data": {
      "text/plain": [
       "[('train\\\\Horses\\\\horse52.jpg',\n",
       "  array([[  5.,   3.,   0., ...,   0.,   1.,  34.],\n",
       "         [ 14.,   3.,   0., ...,   0.,   0.,   0.],\n",
       "         [  0.,   0.,   0., ...,   6.,   0.,   2.],\n",
       "         ...,\n",
       "         [ 14.,  13., 119., ...,   0.,   0.,   2.],\n",
       "         [ 79.,   5.,   1., ...,   0.,   0.,   0.],\n",
       "         [  0.,   0.,   0., ...,  50.,   5.,  18.]], dtype=float32)),\n",
       " ('train\\\\Bikes\\\\0047.jpg',\n",
       "  array([[ 0.,  2.,  4., ...,  0.,  1.,  1.],\n",
       "         [ 1.,  3., 20., ...,  1.,  2.,  5.],\n",
       "         [ 0.,  0.,  0., ...,  0.,  0.,  1.],\n",
       "         ...,\n",
       "         [72., 17.,  0., ...,  0.,  0.,  4.],\n",
       "         [70., 18.,  1., ...,  1.,  1.,  3.],\n",
       "         [55., 16.,  3., ...,  2.,  1.,  2.]], dtype=float32)),\n",
       " ('train\\\\Horses\\\\horse3 .jpg',\n",
       "  array([[101.,  27.,  19., ...,   5.,   0.,   1.],\n",
       "         [  0.,   0.,   0., ...,   0.,  11.,  87.],\n",
       "         [  6.,   2.,   1., ...,  25.,   2.,   1.],\n",
       "         ...,\n",
       "         [  0.,   6.,  35., ...,   0.,   0.,   0.],\n",
       "         [ 20., 110.,  23., ...,   0.,   0.,   0.],\n",
       "         [  0.,   0.,   0., ...,  66.,  21.,  27.]], dtype=float32)),\n",
       " ('train\\\\Bikes\\\\0040.jpg',\n",
       "  array([[ 67., 113.,  36., ...,   1.,   1.,   1.],\n",
       "         [ 97.,  95.,  21., ...,   0.,   0.,   0.],\n",
       "         [  4.,   8.,  11., ...,   1.,   0.,   1.],\n",
       "         ...,\n",
       "         [ 15.,  18.,  10., ...,   0.,   0.,   5.],\n",
       "         [111.,  73.,  14., ...,   0.,   0.,   4.],\n",
       "         [ 10.,   8.,   9., ...,   2.,   0.,   3.]], dtype=float32)),\n",
       " ('train\\\\Bikes\\\\0024.jpg',\n",
       "  array([[ 16.,  26., 132., ...,   0.,   0.,   9.],\n",
       "         [  3.,  11.,  49., ...,   0.,   1.,  10.],\n",
       "         [  0.,   1.,   5., ...,   5.,  18.,   2.],\n",
       "         ...,\n",
       "         [ 23.,   5.,   0., ...,   0.,   0.,   6.],\n",
       "         [ 44.,   9.,   0., ...,   0.,   1.,   4.],\n",
       "         [ 51.,  13.,   0., ...,   0.,   0.,   0.]], dtype=float32)),\n",
       " ('train\\\\Horses\\\\horse29.jpg',\n",
       "  array([[ 42.,   3.,   0., ...,   8.,  16.,  23.],\n",
       "         [  0.,   0.,   0., ...,  27.,   1.,   1.],\n",
       "         [ 12.,   3.,   4., ...,   0.,   0.,   0.],\n",
       "         ...,\n",
       "         [ 98.,  14.,   0., ...,   0.,   0.,   0.],\n",
       "         [102.,  15.,   0., ...,   0.,  22.,  49.],\n",
       "         [ 14.,   4.,   0., ...,   0.,   0.,   0.]], dtype=float32)),\n",
       " ('train\\\\Bikes\\\\0034.jpg',\n",
       "  array([[ 1.,  0.,  0., ...,  0.,  2.,  4.],\n",
       "         [54.,  5.,  2., ...,  0.,  5., 11.],\n",
       "         [21.,  0.,  0., ...,  0.,  9.,  8.],\n",
       "         ...,\n",
       "         [ 1.,  0.,  0., ..., 93., 14.,  1.],\n",
       "         [32.,  7.,  0., ...,  0.,  0., 24.],\n",
       "         [ 4., 55., 76., ...,  0.,  0.,  4.]], dtype=float32)),\n",
       " ('train\\\\Horses\\\\horse23.jpg',\n",
       "  array([[10.,  0.,  0., ...,  0.,  3.,  8.],\n",
       "         [ 1.,  1.,  0., ..., 20.,  0.,  5.],\n",
       "         [38.,  6.,  1., ...,  0.,  0.,  0.],\n",
       "         ...,\n",
       "         [ 3.,  4.,  6., ...,  0.,  0.,  0.],\n",
       "         [ 0.,  6., 30., ...,  0.,  0.,  8.],\n",
       "         [ 1.,  0.,  0., ...,  0.,  0.,  0.]], dtype=float32)),\n",
       " ('train\\\\Bikes\\\\0051.jpg',\n",
       "  array([[  0.,   0.,   0., ...,   1.,   0.,   2.],\n",
       "         [ 16.,   1.,   0., ...,   1.,   0.,   0.],\n",
       "         [117.,  68.,  14., ...,   0.,   0.,   2.],\n",
       "         ...,\n",
       "         [ 31.,   5.,   0., ...,   0.,   0.,  39.],\n",
       "         [ 76.,  30.,   2., ...,   1.,   5.,   5.],\n",
       "         [107.,  21.,   2., ...,   2.,   2.,   9.]], dtype=float32)),\n",
       " ('train\\\\Bikes\\\\0030.jpg',\n",
       "  array([[ 56.,   2.,   0., ...,   5.,   0.,   0.],\n",
       "         [ 49.,   7.,   0., ...,   3.,   0.,   0.],\n",
       "         [ 12.,   1.,   0., ...,   0.,   0.,  32.],\n",
       "         ...,\n",
       "         [  0.,   0., 133., ...,   0.,   2.,   0.],\n",
       "         [  0.,   0.,   0., ...,   2.,   0.,  16.],\n",
       "         [128.,  12.,   3., ...,   0.,   0.,   0.]], dtype=float32)),\n",
       " ('train\\\\Horses\\\\horse18.jpg',\n",
       "  array([[ 14.,  63., 107., ...,  14.,   5.,   1.],\n",
       "         [ 21.,  26.,  47., ...,   0.,   0.,   1.],\n",
       "         [  1.,   0.,   6., ...,   0.,   0.,   0.],\n",
       "         ...,\n",
       "         [  1.,   0.,   0., ...,   0.,   0.,   3.],\n",
       "         [  6.,  10.,  22., ...,   0.,   0.,   2.],\n",
       "         [ 45.,  26.,   0., ...,   0.,   0.,   1.]], dtype=float32)),\n",
       " ('train\\\\Horses\\\\horse73.jpg',\n",
       "  array([[ 0.,  0.,  0., ...,  0.,  0.,  1.],\n",
       "         [11.,  1.,  0., ...,  9.,  0.,  1.],\n",
       "         [ 0.,  0.,  0., ...,  0.,  8., 16.],\n",
       "         ...,\n",
       "         [ 0.,  0.,  0., ..., 80., 52., 11.],\n",
       "         [ 0.,  0.,  0., ..., 12., 33.,  8.],\n",
       "         [ 0.,  0.,  2., ..., 11.,  2., 11.]], dtype=float32)),\n",
       " ('train\\\\Horses\\\\horse10.jpg',\n",
       "  array([[  0.,   0.,   0., ...,   0.,   0.,   2.],\n",
       "         [  0.,   0.,   0., ...,   0.,   0.,   2.],\n",
       "         [  6.,   0.,   0., ...,   3.,  19.,  13.],\n",
       "         ...,\n",
       "         [ 43.,   7.,   0., ...,   2.,  13.,   9.],\n",
       "         [ 27.,   0.,   0., ...,   9.,  40.,  10.],\n",
       "         [ 77.,  15.,   0., ...,  14., 102.,  21.]], dtype=float32)),\n",
       " ('train\\\\Bikes\\\\0071.jpg',\n",
       "  array([[  5.,   3.,   4., ...,   0.,   0.,   2.],\n",
       "         [ 14.,  63.,  96., ...,   0.,   0.,   0.],\n",
       "         [ 71.,  19.,   6., ...,   0.,   1.,   5.],\n",
       "         ...,\n",
       "         [  5.,  28.,  36., ...,   2.,   3.,  16.],\n",
       "         [  6., 109., 134., ...,   3.,   4.,   0.],\n",
       "         [  5.,   4.,   0., ...,  24.,   4.,  10.]], dtype=float32)),\n",
       " ('train\\\\Bikes\\\\0002.jpg',\n",
       "  array([[  0.,  41., 101., ...,   0.,   0.,   8.],\n",
       "         [  1.,   5.,  22., ...,   0.,   0.,  15.],\n",
       "         [149.,  60.,   0., ...,   0.,   1.,   4.],\n",
       "         ...,\n",
       "         [ 59., 146.,  25., ...,   0.,   1.,   5.],\n",
       "         [ 68.,  51.,   8., ...,   0.,   1.,   9.],\n",
       "         [ 33.,  92.,  64., ...,   0.,   2.,   9.]], dtype=float32)),\n",
       " ('train\\\\Bikes\\\\0055.jpg',\n",
       "  array([[ 20.,  12.,   2., ...,   1.,   1.,   9.],\n",
       "         [ 13.,   0.,   0., ...,   0.,   0.,   0.],\n",
       "         [138., 104.,  37., ...,   0.,   0.,   2.],\n",
       "         ...,\n",
       "         [  3.,   3.,   0., ...,   0.,   0.,   1.],\n",
       "         [ 70., 123.,  18., ...,   0.,   0.,   9.],\n",
       "         [  8.,   2.,   1., ...,   0.,   0.,   0.]], dtype=float32)),\n",
       " ('train\\\\Horses\\\\horse19.jpg',\n",
       "  array([[ 1.,  0., 65., ...,  0.,  0., 10.],\n",
       "         [ 0.,  1., 10., ...,  0.,  0.,  0.],\n",
       "         [ 0.,  3.,  6., ...,  0.,  0.,  0.],\n",
       "         ...,\n",
       "         [ 0.,  2., 24., ...,  0.,  0.,  0.],\n",
       "         [38., 26.,  0., ...,  0.,  0.,  0.],\n",
       "         [ 0.,  0.,  6., ..., 77., 14.,  2.]], dtype=float32)),\n",
       " ('train\\\\Bikes\\\\0050.jpg',\n",
       "  array([[ 0.,  0.,  0., ..., 78., 10.,  6.],\n",
       "         [48., 14.,  1., ...,  1.,  1.,  2.],\n",
       "         [12.,  0.,  0., ...,  2.,  5.,  0.],\n",
       "         ...,\n",
       "         [11., 17., 13., ...,  6.,  7.,  9.],\n",
       "         [ 0.,  0.,  0., ...,  0.,  0.,  0.],\n",
       "         [18., 30.,  2., ...,  0.,  0.,  0.]], dtype=float32)),\n",
       " ('train\\\\Bikes\\\\0069.jpg',\n",
       "  array([[42., 18.,  1., ...,  0.,  0.,  1.],\n",
       "         [ 0.,  0.,  1., ...,  1.,  0.,  1.],\n",
       "         [ 0.,  0.,  0., ...,  1.,  0.,  1.],\n",
       "         ...,\n",
       "         [56., 42.,  0., ...,  1.,  0.,  1.],\n",
       "         [32.,  7.,  2., ...,  1.,  3.,  5.],\n",
       "         [73., 50.,  1., ...,  0.,  1.,  0.]], dtype=float32)),\n",
       " ('train\\\\Horses\\\\horse80.jpg',\n",
       "  array([[ 61.,   1.,   1., ...,   0.,   0.,   8.],\n",
       "         [  6., 168.,  61., ...,   0.,   0.,   0.],\n",
       "         [  1.,   6.,   3., ...,   0.,   0.,   0.],\n",
       "         ...,\n",
       "         [ 15.,  11.,   1., ...,   0.,   1.,   0.],\n",
       "         [ 21.,  54.,   7., ...,   0.,   0.,   0.],\n",
       "         [ 26.,   2.,   0., ...,   0.,   0.,   0.]], dtype=float32)),\n",
       " ('train\\\\Bikes\\\\0016.jpg',\n",
       "  array([[  3.,  72., 145., ...,   0.,   0.,   2.],\n",
       "         [  9.,  54.,  77., ...,   0.,   0.,   8.],\n",
       "         [ 46.,   0.,   0., ...,   0.,   2.,   3.],\n",
       "         ...,\n",
       "         [  0.,   0.,   0., ...,   0.,   0.,  17.],\n",
       "         [ 50.,   0.,   0., ...,   0.,   1.,  24.],\n",
       "         [ 49.,   0.,   0., ...,   0.,   2.,  38.]], dtype=float32)),\n",
       " ('train\\\\Bikes\\\\0020.jpg',\n",
       "  array([[  2.,  18.,  47., ...,   0.,   0.,   2.],\n",
       "         [ 44.,  40., 126., ...,   0.,   0.,   2.],\n",
       "         [  0.,   0.,   4., ...,   0.,  12.,   6.],\n",
       "         ...,\n",
       "         [ 44.,  16.,   0., ...,   0.,   0.,  23.],\n",
       "         [128.,   8.,   0., ...,   0.,   0.,   5.],\n",
       "         [121.,  22.,   0., ...,   0.,   0.,   3.]], dtype=float32)),\n",
       " ('train\\\\Horses\\\\horse58.jpg',\n",
       "  array([[31., 34., 16., ...,  0.,  0.,  0.],\n",
       "         [11.,  5.,  3., ...,  2.,  1., 12.],\n",
       "         [ 3.,  0.,  0., ...,  0.,  0., 19.],\n",
       "         ...,\n",
       "         [ 0.,  0.,  0., ...,  3.,  5.,  6.],\n",
       "         [35., 58.,  0., ...,  0.,  0.,  0.],\n",
       "         [ 0.,  0.,  0., ...,  3.,  2.,  9.]], dtype=float32)),\n",
       " ('train\\\\Bikes\\\\0068.jpg',\n",
       "  array([[  3.,  21.,   4., ...,   0.,   0.,   6.],\n",
       "         [  0.,   0.,   0., ...,   0.,   1.,   6.],\n",
       "         [  0.,   0.,   0., ...,   0.,   1.,  18.],\n",
       "         ...,\n",
       "         [107.,  81.,   2., ...,  50.,   6.,   6.],\n",
       "         [ 16.,  48.,   8., ...,  79.,   3.,  10.],\n",
       "         [ 47.,   7.,   9., ...,   0.,   0.,   6.]], dtype=float32))]"
      ]
     },
     "execution_count": 254,
     "metadata": {},
     "output_type": "execute_result"
    }
   ],
   "source": [
    "imgwise_des_list"
   ]
  },
  {
   "cell_type": "code",
   "execution_count": 252,
   "metadata": {},
   "outputs": [
    {
     "data": {
      "text/plain": [
       "(307, 500, 3)"
      ]
     },
     "execution_count": 252,
     "metadata": {},
     "output_type": "execute_result"
    }
   ],
   "source": [
    "im.shape"
   ]
  },
  {
   "cell_type": "code",
   "execution_count": 236,
   "metadata": {},
   "outputs": [
    {
     "data": {
      "text/plain": [
       "array([[  6.,  55., 131., ...,   2.,   2.,   1.],\n",
       "       [  2.,  31.,  43., ...,   0.,   0.,   9.],\n",
       "       [  0.,   5.,  87., ...,   1.,   0.,   1.],\n",
       "       ...,\n",
       "       [ 58.,  46.,   0., ...,   0.,   0.,  11.],\n",
       "       [ 60.,  28.,   5., ...,   0.,   0.,  11.],\n",
       "       [ 48.,  13.,   3., ...,   1.,   2.,   7.]], dtype=float32)"
      ]
     },
     "execution_count": 236,
     "metadata": {},
     "output_type": "execute_result"
    }
   ],
   "source": [
    "des_list"
   ]
  },
  {
   "attachments": {},
   "cell_type": "markdown",
   "metadata": {},
   "source": [
    "Clustering of Descriptors"
   ]
  },
  {
   "cell_type": "code",
   "execution_count": 237,
   "metadata": {},
   "outputs": [],
   "source": [
    "from scipy.cluster.vq import kmeans, vq\n",
    "k = 200  \n",
    "voc, variance = kmeans(des_list, k, 1) \n"
   ]
  },
  {
   "cell_type": "code",
   "execution_count": 238,
   "metadata": {},
   "outputs": [
    {
     "data": {
      "text/plain": [
       "(200, 128)"
      ]
     },
     "execution_count": 238,
     "metadata": {},
     "output_type": "execute_result"
    }
   ],
   "source": [
    "voc.shape"
   ]
  },
  {
   "cell_type": "code",
   "execution_count": 239,
   "metadata": {},
   "outputs": [
    {
     "data": {
      "text/plain": [
       "271.37494"
      ]
     },
     "execution_count": 239,
     "metadata": {},
     "output_type": "execute_result"
    }
   ],
   "source": [
    "variance"
   ]
  },
  {
   "attachments": {},
   "cell_type": "markdown",
   "metadata": {},
   "source": [
    "Computing Histograms"
   ]
  },
  {
   "cell_type": "code",
   "execution_count": 240,
   "metadata": {},
   "outputs": [
    {
     "data": {
      "text/plain": [
       "(155, 200)"
      ]
     },
     "execution_count": 240,
     "metadata": {},
     "output_type": "execute_result"
    }
   ],
   "source": [
    "histograms = np.zeros((len(x_train), k), \"float32\")\n",
    "histograms.shape"
   ]
  },
  {
   "cell_type": "code",
   "execution_count": 241,
   "metadata": {},
   "outputs": [
    {
     "data": {
      "text/plain": [
       "array([[0., 0., 0., ..., 0., 0., 0.],\n",
       "       [0., 0., 0., ..., 0., 0., 0.],\n",
       "       [0., 0., 0., ..., 0., 0., 0.],\n",
       "       ...,\n",
       "       [0., 0., 0., ..., 0., 0., 0.],\n",
       "       [0., 0., 0., ..., 0., 0., 0.],\n",
       "       [0., 0., 0., ..., 0., 0., 0.]], dtype=float32)"
      ]
     },
     "execution_count": 241,
     "metadata": {},
     "output_type": "execute_result"
    }
   ],
   "source": [
    "histograms"
   ]
  },
  {
   "cell_type": "code",
   "execution_count": 242,
   "metadata": {},
   "outputs": [],
   "source": [
    "for i in range(len(x_train)):\n",
    "    words, distance = vq(imgwise_des_list[i][1],voc)\n",
    "    for w in words:\n",
    "        histograms[i][w] += 1"
   ]
  },
  {
   "cell_type": "code",
   "execution_count": 243,
   "metadata": {},
   "outputs": [
    {
     "data": {
      "text/plain": [
       "(785,)"
      ]
     },
     "execution_count": 243,
     "metadata": {},
     "output_type": "execute_result"
    }
   ],
   "source": [
    "words.shape"
   ]
  },
  {
   "cell_type": "code",
   "execution_count": 244,
   "metadata": {},
   "outputs": [
    {
     "data": {
      "text/plain": [
       "(785, 128)"
      ]
     },
     "execution_count": 244,
     "metadata": {},
     "output_type": "execute_result"
    }
   ],
   "source": [
    "imgwise_des_list[len(x_train)-1][1].shape"
   ]
  },
  {
   "cell_type": "code",
   "execution_count": 245,
   "metadata": {},
   "outputs": [
    {
     "data": {
      "text/plain": [
       "(155, 200)"
      ]
     },
     "execution_count": 245,
     "metadata": {},
     "output_type": "execute_result"
    }
   ],
   "source": [
    "histograms.shape"
   ]
  },
  {
   "cell_type": "code",
   "execution_count": 246,
   "metadata": {},
   "outputs": [
    {
     "data": {
      "text/plain": [
       "array([[ 4.,  6.,  0., ...,  2.,  4.,  0.],\n",
       "       [ 4.,  2.,  0., ...,  8.,  4.,  6.],\n",
       "       [ 4.,  4.,  2., ...,  7.,  3.,  3.],\n",
       "       ...,\n",
       "       [43.,  7.,  7., ...,  7., 10.,  4.],\n",
       "       [ 2.,  4.,  2., ...,  3.,  4.,  1.],\n",
       "       [ 1.,  3.,  2., ...,  4.,  3.,  3.]], dtype=float32)"
      ]
     },
     "execution_count": 246,
     "metadata": {},
     "output_type": "execute_result"
    }
   ],
   "source": [
    "histograms #each row represents histogram of one image"
   ]
  },
  {
   "attachments": {},
   "cell_type": "markdown",
   "metadata": {},
   "source": [
    "Scaling the words\n",
    "Standardize features by removing the mean and scaling to unit variance\n",
    "In a way normalization"
   ]
  },
  {
   "cell_type": "code",
   "execution_count": 247,
   "metadata": {},
   "outputs": [],
   "source": [
    "from sklearn.preprocessing import StandardScaler\n",
    "stdSlr = StandardScaler().fit(histograms)\n",
    "histograms = stdSlr.transform(histograms)"
   ]
  },
  {
   "attachments": {},
   "cell_type": "markdown",
   "metadata": {},
   "source": [
    "Train an algorithm to discriminate vectors corresponding to positive and negative training images\n",
    "Train the Linear SVM"
   ]
  },
  {
   "cell_type": "code",
   "execution_count": 248,
   "metadata": {},
   "outputs": [
    {
     "data": {
      "text/html": [
       "<style>#sk-container-id-9 {color: black;background-color: white;}#sk-container-id-9 pre{padding: 0;}#sk-container-id-9 div.sk-toggleable {background-color: white;}#sk-container-id-9 label.sk-toggleable__label {cursor: pointer;display: block;width: 100%;margin-bottom: 0;padding: 0.3em;box-sizing: border-box;text-align: center;}#sk-container-id-9 label.sk-toggleable__label-arrow:before {content: \"▸\";float: left;margin-right: 0.25em;color: #696969;}#sk-container-id-9 label.sk-toggleable__label-arrow:hover:before {color: black;}#sk-container-id-9 div.sk-estimator:hover label.sk-toggleable__label-arrow:before {color: black;}#sk-container-id-9 div.sk-toggleable__content {max-height: 0;max-width: 0;overflow: hidden;text-align: left;background-color: #f0f8ff;}#sk-container-id-9 div.sk-toggleable__content pre {margin: 0.2em;color: black;border-radius: 0.25em;background-color: #f0f8ff;}#sk-container-id-9 input.sk-toggleable__control:checked~div.sk-toggleable__content {max-height: 200px;max-width: 100%;overflow: auto;}#sk-container-id-9 input.sk-toggleable__control:checked~label.sk-toggleable__label-arrow:before {content: \"▾\";}#sk-container-id-9 div.sk-estimator input.sk-toggleable__control:checked~label.sk-toggleable__label {background-color: #d4ebff;}#sk-container-id-9 div.sk-label input.sk-toggleable__control:checked~label.sk-toggleable__label {background-color: #d4ebff;}#sk-container-id-9 input.sk-hidden--visually {border: 0;clip: rect(1px 1px 1px 1px);clip: rect(1px, 1px, 1px, 1px);height: 1px;margin: -1px;overflow: hidden;padding: 0;position: absolute;width: 1px;}#sk-container-id-9 div.sk-estimator {font-family: monospace;background-color: #f0f8ff;border: 1px dotted black;border-radius: 0.25em;box-sizing: border-box;margin-bottom: 0.5em;}#sk-container-id-9 div.sk-estimator:hover {background-color: #d4ebff;}#sk-container-id-9 div.sk-parallel-item::after {content: \"\";width: 100%;border-bottom: 1px solid gray;flex-grow: 1;}#sk-container-id-9 div.sk-label:hover label.sk-toggleable__label {background-color: #d4ebff;}#sk-container-id-9 div.sk-serial::before {content: \"\";position: absolute;border-left: 1px solid gray;box-sizing: border-box;top: 0;bottom: 0;left: 50%;z-index: 0;}#sk-container-id-9 div.sk-serial {display: flex;flex-direction: column;align-items: center;background-color: white;padding-right: 0.2em;padding-left: 0.2em;position: relative;}#sk-container-id-9 div.sk-item {position: relative;z-index: 1;}#sk-container-id-9 div.sk-parallel {display: flex;align-items: stretch;justify-content: center;background-color: white;position: relative;}#sk-container-id-9 div.sk-item::before, #sk-container-id-9 div.sk-parallel-item::before {content: \"\";position: absolute;border-left: 1px solid gray;box-sizing: border-box;top: 0;bottom: 0;left: 50%;z-index: -1;}#sk-container-id-9 div.sk-parallel-item {display: flex;flex-direction: column;z-index: 1;position: relative;background-color: white;}#sk-container-id-9 div.sk-parallel-item:first-child::after {align-self: flex-end;width: 50%;}#sk-container-id-9 div.sk-parallel-item:last-child::after {align-self: flex-start;width: 50%;}#sk-container-id-9 div.sk-parallel-item:only-child::after {width: 0;}#sk-container-id-9 div.sk-dashed-wrapped {border: 1px dashed gray;margin: 0 0.4em 0.5em 0.4em;box-sizing: border-box;padding-bottom: 0.4em;background-color: white;}#sk-container-id-9 div.sk-label label {font-family: monospace;font-weight: bold;display: inline-block;line-height: 1.2em;}#sk-container-id-9 div.sk-label-container {text-align: center;}#sk-container-id-9 div.sk-container {/* jupyter's `normalize.less` sets `[hidden] { display: none; }` but bootstrap.min.css set `[hidden] { display: none !important; }` so we also need the `!important` here to be able to override the default hidden behavior on the sphinx rendered scikit-learn.org. See: https://github.com/scikit-learn/scikit-learn/issues/21755 */display: inline-block !important;position: relative;}#sk-container-id-9 div.sk-text-repr-fallback {display: none;}</style><div id=\"sk-container-id-9\" class=\"sk-top-container\"><div class=\"sk-text-repr-fallback\"><pre>LinearSVC(max_iter=80000)</pre><b>In a Jupyter environment, please rerun this cell to show the HTML representation or trust the notebook. <br />On GitHub, the HTML representation is unable to render, please try loading this page with nbviewer.org.</b></div><div class=\"sk-container\" hidden><div class=\"sk-item\"><div class=\"sk-estimator sk-toggleable\"><input class=\"sk-toggleable__control sk-hidden--visually\" id=\"sk-estimator-id-9\" type=\"checkbox\" checked><label for=\"sk-estimator-id-9\" class=\"sk-toggleable__label sk-toggleable__label-arrow\">LinearSVC</label><div class=\"sk-toggleable__content\"><pre>LinearSVC(max_iter=80000)</pre></div></div></div></div></div>"
      ],
      "text/plain": [
       "LinearSVC(max_iter=80000)"
      ]
     },
     "execution_count": 248,
     "metadata": {},
     "output_type": "execute_result"
    }
   ],
   "source": [
    "from sklearn.svm import LinearSVC\n",
    "y_train = np.asarray(y_train, dtype=np.float32)\n",
    "clf = LinearSVC(max_iter=80000)  #Default of 100 is not converging\n",
    "clf.fit(histograms,y_train)"
   ]
  },
  {
   "attachments": {},
   "cell_type": "markdown",
   "metadata": {},
   "source": [
    "TESTING"
   ]
  },
  {
   "cell_type": "code",
   "execution_count": 249,
   "metadata": {},
   "outputs": [],
   "source": [
    "imgwise_des_list = []\n",
    "des_list = []\n",
    "for t in x_test:\n",
    "    im = cv2.imread(t)\n",
    "    kpts, des = sift.detectAndCompute(im, None)\n",
    "    imgwise_des_list.append((t, des)) \n",
    "    for i in des:\n",
    "        des_list.append(i)\n",
    "des_list = np.array(des_list) \n",
    "\n",
    "histograms = np.zeros((len(x_test), k), \"float32\")\n",
    "\n",
    "for i in range(len(x_test)):\n",
    "    words, distance = vq(imgwise_des_list[i][1],voc)\n",
    "    for w in words:\n",
    "        histograms[i][w] += 1\n",
    "        \n",
    "stdSlr = StandardScaler().fit(histograms)\n",
    "histograms = stdSlr.transform(histograms)\n"
   ]
  },
  {
   "cell_type": "code",
   "execution_count": 250,
   "metadata": {},
   "outputs": [
    {
     "name": "stdout",
     "output_type": "stream",
     "text": [
      "[1. 0. 1. 0. 0. 1. 0. 1. 0. 0. 1. 1. 1. 0. 0. 0. 1. 0. 1. 1. 0. 0. 1. 0.] [1. 0. 1. 0. 0. 1. 0. 1. 0. 0. 1. 1. 1. 0. 0. 0. 1. 0. 0. 1. 0. 0. 1. 0.]\n",
      "0.9583333333333334\n"
     ]
    }
   ],
   "source": [
    "y_test = np.asarray(y_test, dtype=np.float32)\n",
    "predictions=clf.predict(histograms)\n",
    "def get_accuracy(predictions, Y):\n",
    "    print(predictions, Y)\n",
    "    return np.sum(predictions == Y) / Y.size\n",
    "\n",
    "print(get_accuracy(predictions,y_test))"
   ]
  }
 ],
 "metadata": {
  "kernelspec": {
   "display_name": "cv",
   "language": "python",
   "name": "python3"
  },
  "language_info": {
   "codemirror_mode": {
    "name": "ipython",
    "version": 3
   },
   "file_extension": ".py",
   "mimetype": "text/x-python",
   "name": "python",
   "nbconvert_exporter": "python",
   "pygments_lexer": "ipython3",
   "version": "3.9.15"
  },
  "orig_nbformat": 4,
  "vscode": {
   "interpreter": {
    "hash": "e6f0135afc01c5ab7f744eceda357947e481deb6278c7f68eec6390d9cac9b8c"
   }
  }
 },
 "nbformat": 4,
 "nbformat_minor": 2
}
